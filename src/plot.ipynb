{
 "cells": [
  {
   "cell_type": "code",
   "execution_count": null,
   "metadata": {},
   "outputs": [],
   "source": [
    "import pandas as pd\n",
    "import numpy as np\n",
    "from matplotlib import pyplot as plt\n",
    "import seaborn as sns"
   ]
  },
  {
   "cell_type": "code",
   "execution_count": null,
   "metadata": {},
   "outputs": [],
   "source": [
    "n = 4\n",
    "file = f\"../images/{n}_obstacles\""
   ]
  },
  {
   "cell_type": "code",
   "execution_count": null,
   "metadata": {},
   "outputs": [],
   "source": [
    "df = pd.read_csv(f\"{file}/all_rrt.csv\")\n",
    "rrts = rrts = (\"Normal\", \"Spaced\", \"Greedy\", \"Speedy\")\n",
    "df[\"Type\"] = pd.Categorical(df[\"Type\"], categories=rrts, ordered=True)\n",
    "df.sort_values(by=\"Type\", inplace=True)"
   ]
  },
  {
   "cell_type": "code",
   "execution_count": null,
   "metadata": {},
   "outputs": [],
   "source": [
    "sns.catplot(\n",
    "    data=df,\n",
    "    x=\"Path Length\",\n",
    "    y=\"Type\",\n",
    "    hue=\"Type\",\n",
    "    kind=\"violin\",\n",
    "    inner=\"box\",\n",
    ")"
   ]
  },
  {
   "cell_type": "code",
   "execution_count": null,
   "metadata": {},
   "outputs": [],
   "source": [
    "sns.scatterplot(\n",
    "    data=df,\n",
    "    x=\"Total Nodes\",\n",
    "    y=\"Time Taken\",\n",
    "    hue=\"Type\",\n",
    "    edgecolor=None,\n",
    "    s=20,\n",
    ")"
   ]
  },
  {
   "cell_type": "code",
   "execution_count": null,
   "metadata": {},
   "outputs": [],
   "source": [
    "bar_plot = sns.barplot(\n",
    "    data=df,\n",
    "    x=\"Path Length\",\n",
    "    y=\"Type\",\n",
    "    hue=\"Type\",\n",
    "    estimator=np.mean,\n",
    ")\n",
    "for i in range(len(bar_plot.containers)):\n",
    "    bar_plot.bar_label(bar_plot.containers[i], label_type=\"center\", fmt=\"%.2f\")"
   ]
  },
  {
   "cell_type": "code",
   "execution_count": null,
   "metadata": {},
   "outputs": [],
   "source": [
    "sns.kdeplot(\n",
    "    data=df,\n",
    "    x=\"Path Length\",\n",
    "    hue=\"Type\",\n",
    "    fill=True\n",
    ")"
   ]
  },
  {
   "cell_type": "code",
   "execution_count": null,
   "metadata": {},
   "outputs": [],
   "source": []
  }
 ],
 "metadata": {
  "kernelspec": {
   "display_name": "Python 3",
   "language": "python",
   "name": "python3"
  },
  "language_info": {
   "codemirror_mode": {
    "name": "ipython",
    "version": 3
   },
   "file_extension": ".py",
   "mimetype": "text/x-python",
   "name": "python",
   "nbconvert_exporter": "python",
   "pygments_lexer": "ipython3",
   "version": "3.1.undefined"
  }
 },
 "nbformat": 4,
 "nbformat_minor": 2
}
